{
 "cells": [
  {
   "cell_type": "code",
   "execution_count": 4,
   "metadata": {},
   "outputs": [
    {
     "name": "stdout",
     "output_type": "stream",
     "text": [
      "[]\n"
     ]
    }
   ],
   "source": [
    "import os\n",
    "import requests\n",
    "import json\n",
    "import time\n",
    "from urllib.parse import quote\n",
    "\n",
    "def get_biogrid_interactions(gene_name, access_key, search_type=\"searchNames\", tax_id=\"9606\",\n",
    "                            include_interactors=True, max_results=10000, format=\"json\"):\n",
    "    \"\"\"\n",
    "    Fetches known interactions for a gene from BioGRID.\n",
    "\n",
    "    Args:\n",
    "        gene_name: The gene name to search for (e.g., \"MDM2\").\n",
    "        access_key: Your BioGRID API access key.\n",
    "        search_type: How to search for the gene (\"searchNames\", \"searchIds\", \"searchSynonyms\", \"additionalIdentifierTypes\").\n",
    "        tax_id: The NCBI taxonomy ID for the organism (default: \"9606\" for human).\n",
    "        include_interactors: Whether to include first-order interactions (default: True).\n",
    "        max_results: The maximum number of results to fetch (default: 10000).\n",
    "        format: The desired response format (\"json\" or \"jsonExtended\").\n",
    "\n",
    "    Returns:\n",
    "        A dictionary containing the parsed JSON response from BioGRID, or None if an error occurred.\n",
    "    \"\"\"\n",
    "    base_url = \"https://webservice.thebiogrid.org/interactions/\"\n",
    "    params = {\n",
    "        \"accesskey\": access_key,\n",
    "        \"geneList\": gene_name,\n",
    "        \"taxId\": tax_id,\n",
    "        \"includeInteractors\": str(include_interactors).lower(),\n",
    "        \"format\": format,\n",
    "        \"max\": max_results,\n",
    "    }\n",
    "\n",
    "    if search_type == \"searchNames\":\n",
    "        params[\"searchNames\"] = \"true\"\n",
    "    elif search_type == \"searchIds\":\n",
    "        params[\"searchIds\"] = \"true\"\n",
    "    elif search_type == \"searchSynonyms\":\n",
    "        params[\"searchSynonyms\"] = \"true\"\n",
    "    elif search_type == \"additionalIdentifierTypes\":\n",
    "        params[\"additionalIdentifierTypes\"] = \"UNIPROT\"\n",
    "    else:\n",
    "        print(\"Invalid search_type. Options: searchNames, searchIds, searchSynonyms, additionalIdentifierTypes\")\n",
    "        return None\n",
    "\n",
    "    try:\n",
    "        url = base_url + \"?\" + \"&\".join([f\"{k}={v}\" for k, v in params.items()])\n",
    "        response = requests.get(url)\n",
    "        response.raise_for_status() # Raise HTTPError for bad responses (4xx or 5xx)\n",
    "        return response.json()\n",
    "    except requests.exceptions.RequestException as e:\n",
    "        print(f\"Error fetching data from BioGRID: {e}\")\n",
    "        return None\n",
    "\n",
    "\n",
    "def extract_biogrid_interactions(biogrid_data):\n",
    "    \"\"\"\n",
    "    Extracts relevant interaction information from the BioGRID JSON response.\n",
    "     Args:\n",
    "        biogrid_data: The JSON response from the BioGRID API.\n",
    "\n",
    "    Returns:\n",
    "        A list of dictionaries, each containing interaction info or an empty list if an error occurred.\n",
    "    \"\"\"\n",
    "    interactions = []\n",
    "\n",
    "    if not biogrid_data or \"entries\" not in biogrid_data:\n",
    "       return interactions\n",
    "\n",
    "    for entry in biogrid_data[\"entries\"]:\n",
    "        for interaction in entry.get(\"interactions\", []):\n",
    "            int_info = {}\n",
    "            int_info['interaction_id'] = interaction.get(\"interactionId\")\n",
    "            int_info['interaction_type'] = interaction.get(\"interactionType\")\n",
    "            int_info[\"evidence_code\"] = interaction.get(\"evidenceCode\")\n",
    "\n",
    "            interactors = []\n",
    "            for interactor in interaction.get(\"interactors\", []):\n",
    "                interactor_info = {}\n",
    "                interactor_info[\"entrez_gene_id\"] = interactor.get(\"entrezGeneId\")\n",
    "                interactor_info[\"official_symbol\"] = interactor.get(\"officialSymbol\")\n",
    "                interactor_info[\"synonyms\"] = interactor.get(\"synonyms\")\n",
    "                interactor_info[\"organism_name\"] = interactor.get(\"organismName\")\n",
    "                interactor_info[\"organism_tax_id\"] = interactor.get(\"organismTaxId\")\n",
    "                interactors.append(interactor_info)\n",
    "\n",
    "            int_info[\"interactors\"] = interactors\n",
    "            interactions.append(int_info)\n",
    "\n",
    "    return interactions\n",
    "\n",
    "from dotenv import load_dotenv\n",
    "\n",
    "load_dotenv()\n",
    "\n",
    "# Example Usage\n",
    "gene_name = \"CLOCK\"\n",
    "access_key = os.getenv(\"BIOGRID_API_KEY\")\n",
    "tax_id = \"9606\"  # Human\n",
    "format = \"json\"\n",
    "search_type = \"searchNames\" # searchNames or additionalIdentifierTypes\n",
    "biogrid_data = get_biogrid_interactions(\n",
    "    gene_name, access_key, tax_id=tax_id, format=format, search_type=search_type\n",
    ")\n",
    "\n",
    "if biogrid_data:\n",
    "    extracted_info = extract_biogrid_interactions(biogrid_data)\n",
    "    print(json.dumps(extracted_info, indent=2))"
   ]
  },
  {
   "cell_type": "code",
   "execution_count": 6,
   "metadata": {},
   "outputs": [
    {
     "data": {
      "text/plain": [
       "<Response [200]>"
      ]
     },
     "execution_count": 6,
     "metadata": {},
     "output_type": "execute_result"
    }
   ],
   "source": [
    "url = f\"https://webservice.thebiogrid.org/interactions/?accesskey={access_key}\"\n",
    "\n",
    "response = requests.get(url)\n",
    "response.raise_for_status() # Raise HTTPError for bad responses (4xx or 5xx)\n",
    "response"
   ]
  },
  {
   "cell_type": "code",
   "execution_count": 11,
   "metadata": {},
   "outputs": [
    {
     "name": "stdout",
     "output_type": "stream",
     "text": [
      "[['244573', '4193', '7157', '110358', '113010', '-', '-', 'MDM2', 'TP53', 'ACTFS|HDMX|hdm2', 'BCC7|LFS1|P53|TRP53', 'Biochemical Activity', 'physical', 'Li M (2003)', '14671306', '9606', '9606', 'Low Throughput', '-', 'Ubiquitination', '-', \"Low levels of Mdm2 activity induce monoubiquitination and nuclear export of p53, whereas high levels promote p53's polyubiquitination and nuclear degradation\", '-', 'BIOGRID'], ['244620', '9656', '4193', '115014', '110358', 'DAAP-285E11.7', '-', 'MDC1', 'MDM2', 'NFBD1', 'ACTFS|HDMX|hdm2', 'Protein-peptide', 'physical', 'Rodriguez M (2003)', '14578343', '9606', '9606', 'Low Throughput', '-', '-', '-', 'MDC1 BRCT domains bind phosphopeptides with the motif pS-hydrophobic-[EVDI]-[YF];predicted partners', '-', 'BIOGRID'], ['244822', '4193', '1487', '110358', '107869', '-', '-', 'MDM2', 'CTBP1', 'ACTFS|HDMX|hdm2', 'BARS', 'Far Western', 'physical', 'Mirnezami AH (2003)', '12867035', '9606', '9606', 'Low Throughput', '-', '-', '-', 'Repress p53 activity through the recruitment of a known transcriptional corepressor, hCtBP2. This interaction, and consequent repression of p53-dependent transcription, is relieved under hypoxia or hypoxia-mimicking conditions that are known to increase l', '-', 'BIOGRID'], ['244823', '4193', '1487', '110358', '107869', '-', '-', 'MDM2', 'CTBP1', 'ACTFS|HDMX|hdm2', 'BARS', 'Affinity Capture-Western', 'physical', 'Mirnezami AH (2003)', '12867035', '9606', '9606', 'Low Throughput', '-', '-', '-', 'Repress p53 activity through the recruitment of a known transcriptional corepressor, hCtBP2. This interaction, and consequent repression of p53-dependent transcription, is relieved under hypoxia or hypoxia-mimicking conditions that are known to increase l', '-', 'BIOGRID'], ['245026', '4193', '7157', '110358', '113010', '-', '-', 'MDM2', 'TP53', 'ACTFS|HDMX|hdm2', 'BCC7|LFS1|P53|TRP53', 'Affinity Capture-Western', 'physical', 'Latonen L (2001)', '11709713', '9606', '9606', 'Low Throughput', '-', '-', '-', 'The levels of HDM2, a negative regulator of p53, increased only by the low dose of UVC and p53-HDM2 association was promoted. In the absence of HDM2-induction after the high dose of UV-radiation p53-HDM2-interaction was promoted, but HDM2 failed to downre', '-', 'BIOGRID']]\n"
     ]
    }
   ],
   "source": [
    "import requests\n",
    "import json\n",
    "\n",
    "\n",
    "gene_name = \"MDM2\"\n",
    "url = f\"https://webservice.thebiogrid.org/interactions/?accesskey={access_key}&searchNames=true&geneList={gene_name}\"\n",
    "\n",
    "response = requests.get(url)\n",
    "response.raise_for_status() # Raise HTTPError for bad responses (4xx or 5xx)\n",
    "tsv_data = response.text\n",
    "\n",
    "# Split the string into lines, and split lines into columns by tabs\n",
    "lines = tsv_data.strip().split(\"\\n\")\n",
    "parsed_data = [line.split(\"\\t\") for line in lines]\n",
    "\n",
    "\n",
    "print(parsed_data[:5]) #Show the first 5 entries."
   ]
  },
  {
   "cell_type": "code",
   "execution_count": 61,
   "metadata": {},
   "outputs": [],
   "source": [
    "import requests\n",
    "import pandas as pd\n",
    "import io\n",
    "\n",
    "gene_name = \"CLOCK\"\n",
    "url = f\"https://webservice.thebiogrid.org/interactions/?accesskey={access_key}&searchNames=true&geneList={gene_name}\"\n",
    "\n",
    "response = requests.get(url)\n",
    "response.raise_for_status()  # Raise HTTPError for bad responses (4xx or 5xx)\n",
    "tsv_data = response.text\n",
    "\n",
    "# Use io.StringIO to treat the string like a file\n",
    "tsv_file = io.StringIO(tsv_data)\n",
    "\n",
    "# Read the data into a DataFrame\n",
    "df = pd.read_csv(tsv_file, sep=\"\\t\", comment=\"#\")\n",
    "\n",
    "# Optionally, you can rename columns if the header is not provided:\n",
    "column_names = [\n",
    "    \"BioGRID Interaction ID\",\n",
    "    \"Entrez Gene ID for Interactor A\",\n",
    "    \"Entrez Gene ID for Interactor B\",\n",
    "    \"BioGRID ID for Interactor A\",\n",
    "    \"BioGRID ID for Interactor B\",\n",
    "    \"Systematic name for Interactor A\",\n",
    "    \"Systematic name for Interactor B\",\n",
    "    \"Official symbol for Interactor A\",\n",
    "    \"Official symbol for Interactor B\",\n",
    "    \"Synonyms/Aliases for Interactor A\",\n",
    "    \"Synonyms/Aliases for Interactor B\",\n",
    "    \"Experimental System Name\",\n",
    "    \"Experimental System Type\",\n",
    "    \"First author surname of the publication\",\n",
    "    \"Pubmed ID of the publication\",\n",
    "    \"Organism ID for Interactor A\",\n",
    "    \"Organism ID for Interactor B\",\n",
    "    \"Interaction Throughput\",\n",
    "    \"Quantitative Score\",\n",
    "    \"Post Translational Modification\",\n",
    "    \"Phenotypes\",\n",
    "    \"Qualifications\",\n",
    "    \"Tags\",\n",
    "    \"Source Database\"\n",
    "]\n",
    "\n",
    "\n",
    "\n",
    "df.columns = column_names\n",
    "\n",
    "filtered_column_names =  [\n",
    "    \"Official symbol for Interactor A\",\n",
    "    \"Official symbol for Interactor B\",\n",
    "    \"Synonyms/Aliases for Interactor A\",\n",
    "    \"Synonyms/Aliases for Interactor B\",\n",
    "    \"Quantitative Score\",\n",
    "]\n",
    "df = df[filtered_column_names]\n",
    "\n",
    "df = df.sort_values(\"Quantitative Score\", ascending=False)"
   ]
  },
  {
   "cell_type": "code",
   "execution_count": 62,
   "metadata": {},
   "outputs": [],
   "source": [
    "\n",
    "\n",
    "df[\"Quantitative Score\"] = df[\"Quantitative Score\"].replace(\"-\", \"0\").astype(float)\n",
    "\n",
    "df = df[df[\"Quantitative Score\"] > 0]"
   ]
  },
  {
   "cell_type": "code",
   "execution_count": 64,
   "metadata": {},
   "outputs": [
    {
     "data": {
      "text/plain": [
       "(40, 5)"
      ]
     },
     "execution_count": 64,
     "metadata": {},
     "output_type": "execute_result"
    }
   ],
   "source": [
    "df.shape"
   ]
  },
  {
   "cell_type": "code",
   "execution_count": null,
   "metadata": {},
   "outputs": [],
   "source": []
  }
 ],
 "metadata": {
  "kernelspec": {
   "display_name": "circadia",
   "language": "python",
   "name": "python3"
  },
  "language_info": {
   "codemirror_mode": {
    "name": "ipython",
    "version": 3
   },
   "file_extension": ".py",
   "mimetype": "text/x-python",
   "name": "python",
   "nbconvert_exporter": "python",
   "pygments_lexer": "ipython3",
   "version": "3.11.10"
  }
 },
 "nbformat": 4,
 "nbformat_minor": 2
}
